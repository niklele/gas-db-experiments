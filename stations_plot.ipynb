{
 "cells": [
  {
   "cell_type": "code",
   "execution_count": 19,
   "metadata": {
    "collapsed": true
   },
   "outputs": [],
   "source": [
    "from mpl_toolkits.basemap import Basemap\n",
    "import matplotlib.pyplot as plt\n",
    "import numpy as np\n",
    "import seaborn as sns\n",
    "import pandas as pd\n",
    "import json\n",
    "import os\n",
    "%matplotlib inline  "
   ]
  },
  {
   "cell_type": "code",
   "execution_count": 53,
   "metadata": {},
   "outputs": [],
   "source": [
    "plt.rcParams['figure.figsize'] = (5,5)"
   ]
  },
  {
   "cell_type": "code",
   "execution_count": 2,
   "metadata": {},
   "outputs": [
    {
     "data": {
      "text/html": [
       "<div>\n",
       "<style>\n",
       "    .dataframe thead tr:only-child th {\n",
       "        text-align: right;\n",
       "    }\n",
       "\n",
       "    .dataframe thead th {\n",
       "        text-align: left;\n",
       "    }\n",
       "\n",
       "    .dataframe tbody tr th {\n",
       "        vertical-align: top;\n",
       "    }\n",
       "</style>\n",
       "<table border=\"1\" class=\"dataframe\">\n",
       "  <thead>\n",
       "    <tr style=\"text-align: right;\">\n",
       "      <th></th>\n",
       "      <th>location</th>\n",
       "      <th>name</th>\n",
       "      <th>address</th>\n",
       "      <th>latitude</th>\n",
       "      <th>longitude</th>\n",
       "      <th>phone</th>\n",
       "    </tr>\n",
       "    <tr>\n",
       "      <th>station_id</th>\n",
       "      <th></th>\n",
       "      <th></th>\n",
       "      <th></th>\n",
       "      <th></th>\n",
       "      <th></th>\n",
       "      <th></th>\n",
       "    </tr>\n",
       "  </thead>\n",
       "  <tbody>\n",
       "    <tr>\n",
       "      <th>4030</th>\n",
       "      <td>Cupertino</td>\n",
       "      <td>Valero</td>\n",
       "      <td>10002 N De Anza Blvd, Cupertino, CA 95014, USA</td>\n",
       "      <td>37.323388</td>\n",
       "      <td>-122.031775</td>\n",
       "      <td>408-996-1222</td>\n",
       "    </tr>\n",
       "    <tr>\n",
       "      <th>10588</th>\n",
       "      <td>Cupertino</td>\n",
       "      <td>Chevron</td>\n",
       "      <td>10023 S De Anza Blvd, Cupertino, CA 95014, USA</td>\n",
       "      <td>37.322547</td>\n",
       "      <td>-122.032735</td>\n",
       "      <td>408-996-9906</td>\n",
       "    </tr>\n",
       "    <tr>\n",
       "      <th>24622</th>\n",
       "      <td>Los Altos</td>\n",
       "      <td>Shell</td>\n",
       "      <td>929 Fremont Ave, Los Altos Hills, CA 94024, USA</td>\n",
       "      <td>37.354072</td>\n",
       "      <td>-122.088676</td>\n",
       "      <td>650-949-3746</td>\n",
       "    </tr>\n",
       "    <tr>\n",
       "      <th>21026</th>\n",
       "      <td>Menlo Park</td>\n",
       "      <td>Quik Stop</td>\n",
       "      <td>3401 Middlefield Rd, Menlo Park, CA 94025, USA</td>\n",
       "      <td>37.470637</td>\n",
       "      <td>-122.201853</td>\n",
       "      <td>650-365-5783</td>\n",
       "    </tr>\n",
       "    <tr>\n",
       "      <th>2550</th>\n",
       "      <td>Mountain View</td>\n",
       "      <td>ARCO</td>\n",
       "      <td>790 W Middlefield Rd, Mountain View, CA 94043,...</td>\n",
       "      <td>37.402403</td>\n",
       "      <td>-122.074635</td>\n",
       "      <td>(650) 934-2630</td>\n",
       "    </tr>\n",
       "  </tbody>\n",
       "</table>\n",
       "</div>"
      ],
      "text/plain": [
       "                 location       name  \\\n",
       "station_id                             \n",
       "4030            Cupertino     Valero   \n",
       "10588           Cupertino    Chevron   \n",
       "24622           Los Altos      Shell   \n",
       "21026          Menlo Park  Quik Stop   \n",
       "2550        Mountain View       ARCO   \n",
       "\n",
       "                                                      address   latitude  \\\n",
       "station_id                                                                 \n",
       "4030           10002 N De Anza Blvd, Cupertino, CA 95014, USA  37.323388   \n",
       "10588          10023 S De Anza Blvd, Cupertino, CA 95014, USA  37.322547   \n",
       "24622         929 Fremont Ave, Los Altos Hills, CA 94024, USA  37.354072   \n",
       "21026          3401 Middlefield Rd, Menlo Park, CA 94025, USA  37.470637   \n",
       "2550        790 W Middlefield Rd, Mountain View, CA 94043,...  37.402403   \n",
       "\n",
       "             longitude           phone  \n",
       "station_id                              \n",
       "4030       -122.031775    408-996-1222  \n",
       "10588      -122.032735    408-996-9906  \n",
       "24622      -122.088676    650-949-3746  \n",
       "21026      -122.201853    650-365-5783  \n",
       "2550       -122.074635  (650) 934-2630  "
      ]
     },
     "execution_count": 2,
     "metadata": {},
     "output_type": "execute_result"
    }
   ],
   "source": [
    "stations = pd.read_csv('data/stations_combined.csv', index_col=0)\n",
    "stations.head(5)"
   ]
  },
  {
   "cell_type": "code",
   "execution_count": 24,
   "metadata": {},
   "outputs": [
    {
     "data": {
      "text/html": [
       "<div>\n",
       "<style>\n",
       "    .dataframe thead tr:only-child th {\n",
       "        text-align: right;\n",
       "    }\n",
       "\n",
       "    .dataframe thead th {\n",
       "        text-align: left;\n",
       "    }\n",
       "\n",
       "    .dataframe tbody tr th {\n",
       "        vertical-align: top;\n",
       "    }\n",
       "</style>\n",
       "<table border=\"1\" class=\"dataframe\">\n",
       "  <thead>\n",
       "    <tr style=\"text-align: right;\">\n",
       "      <th></th>\n",
       "      <th>latitude</th>\n",
       "      <th>longitude</th>\n",
       "    </tr>\n",
       "  </thead>\n",
       "  <tbody>\n",
       "    <tr>\n",
       "      <th>count</th>\n",
       "      <td>336.000000</td>\n",
       "      <td>336.000000</td>\n",
       "    </tr>\n",
       "    <tr>\n",
       "      <th>mean</th>\n",
       "      <td>37.430980</td>\n",
       "      <td>-122.143135</td>\n",
       "    </tr>\n",
       "    <tr>\n",
       "      <th>std</th>\n",
       "      <td>0.171924</td>\n",
       "      <td>0.242650</td>\n",
       "    </tr>\n",
       "    <tr>\n",
       "      <th>min</th>\n",
       "      <td>36.984397</td>\n",
       "      <td>-122.515774</td>\n",
       "    </tr>\n",
       "    <tr>\n",
       "      <th>25%</th>\n",
       "      <td>37.337983</td>\n",
       "      <td>-122.334396</td>\n",
       "    </tr>\n",
       "    <tr>\n",
       "      <th>50%</th>\n",
       "      <td>37.429867</td>\n",
       "      <td>-122.158949</td>\n",
       "    </tr>\n",
       "    <tr>\n",
       "      <th>75%</th>\n",
       "      <td>37.566795</td>\n",
       "      <td>-121.995910</td>\n",
       "    </tr>\n",
       "    <tr>\n",
       "      <th>max</th>\n",
       "      <td>37.811295</td>\n",
       "      <td>-121.551986</td>\n",
       "    </tr>\n",
       "  </tbody>\n",
       "</table>\n",
       "</div>"
      ],
      "text/plain": [
       "         latitude   longitude\n",
       "count  336.000000  336.000000\n",
       "mean    37.430980 -122.143135\n",
       "std      0.171924    0.242650\n",
       "min     36.984397 -122.515774\n",
       "25%     37.337983 -122.334396\n",
       "50%     37.429867 -122.158949\n",
       "75%     37.566795 -121.995910\n",
       "max     37.811295 -121.551986"
      ]
     },
     "execution_count": 24,
     "metadata": {},
     "output_type": "execute_result"
    }
   ],
   "source": [
    "stations.describe()"
   ]
  },
  {
   "cell_type": "code",
   "execution_count": 54,
   "metadata": {},
   "outputs": [
    {
     "data": {
      "text/plain": [
       "<matplotlib.collections.PathCollection at 0x10bd81898>"
      ]
     },
     "execution_count": 54,
     "metadata": {},
     "output_type": "execute_result"
    },
    {
     "data": {
      "image/png": "[encoded data removed]",
      "text/plain": [
       "<matplotlib.figure.Figure at 0x10c635d68>"
      ]
     },
     "metadata": {},
     "output_type": "display_data"
    }
   ],
   "source": [
    "plt.scatter(stations['latitude'], stations['longitude'])"
   ]
  },
  {
   "cell_type": "code",
   "execution_count": 58,
   "metadata": {},
   "outputs": [
    {
     "data": {
      "image/png": "[encoded data removed]",
      "text/plain": [
       "<matplotlib.figure.Figure at 0x10b9bd080>"
      ]
     },
     "metadata": {},
     "output_type": "display_data"
    }
   ],
   "source": [
    "# m = Basemap(projection='ortho', lat_0=37.430980, lon_0=-122.143135)\n",
    "# lower left = (37.166, -122.843)\n",
    "# upper right = (37.859, -121.598)\n",
    "\n",
    "fig=plt.figure(figsize=(18, 16))\n",
    "\n",
    "m = Basemap(llcrnrlon=-122.843, llcrnrlat=37.166, urcrnrlon=-121.598, urcrnrlat=37.859,\n",
    "            projection='lcc',lat_0=37.430980,lon_0=-122.143135,\n",
    "            resolution ='h')\n",
    "m.fillcontinents(color='tan')\n",
    "\n",
    "plt.show()"
   ]
  },
  {
   "cell_type": "code",
   "execution_count": null,
   "metadata": {
    "collapsed": true
   },
   "outputs": [],
   "source": []
  }
 ],
 "metadata": {
  "kernelspec": {
   "display_name": "Python 3",
   "language": "python",
   "name": "python3"
  },
  "language_info": {
   "codemirror_mode": {
    "name": "ipython",
    "version": 3
   },
   "file_extension": ".py",
   "mimetype": "text/x-python",
   "name": "python",
   "nbconvert_exporter": "python",
   "pygments_lexer": "ipython3",
   "version": "3.6.2"
  }
 },
 "nbformat": 4,
 "nbformat_minor": 2
}
